{
 "cells": [
  {
   "cell_type": "code",
   "execution_count": 178,
   "id": "fa44e2c4-fb2c-41a9-8841-91f4e1079cac",
   "metadata": {},
   "outputs": [],
   "source": [
    "from selenium import webdriver as wb\n",
    "from selenium.webdriver.common.keys import Keys \n",
    "from bs4 import BeautifulSoup as bs\n",
    "import pandas as pd\n",
    "import time\n",
    "from selenium.webdriver.common.keys import Keys\n",
    "\n",
    "# 판다스 옵션 설정\n",
    "pd.set_option('display.max_row', 500)\n",
    "pd.set_option('display.max_columns', 100)\n",
    "pd.set_option('display.max_colwidth', 100)"
   ]
  },
  {
   "cell_type": "code",
   "execution_count": 182,
   "id": "ef4baa78-9577-4a41-935b-470dfd2fbd95",
   "metadata": {},
   "outputs": [
    {
     "name": "stdin",
     "output_type": "stream",
     "text": [
      "유튜버 페이지 이름:  뻑가\n",
      "몇번째 동영상 크롤링?:  2\n",
      "스크롤할 횟수 2\n"
     ]
    }
   ],
   "source": [
    "# 크롬드라이버로 실행\n",
    "driver = wb.Chrome('chromedriver.exe')\n",
    "time.sleep(1)\n",
    "\n",
    "# 찾고싶은 해당 페이지 입력\n",
    "search = str(input(\"유튜버 페이지 이름: \"))\n",
    "youtube = 'https://www.youtube.com/results?search_query='\n",
    "url = youtube+search\n",
    "driver.get(url)\n",
    "time.sleep(2)\n",
    "\n",
    "# 해당 유튜버로 홈으로 접근\n",
    "driver.find_element_by_css_selector('#avatar').click()\n",
    "time.sleep(2)\n",
    "\n",
    "# 동영상 페이지로 접근\n",
    "driver.find_element_by_css_selector('#tabsContent > tp-yt-paper-tab:nth-child(4)').click()\n",
    "time.sleep(2)\n",
    "\n",
    "# 특정 비디오만 크롤링 하기\n",
    "video_num = int(input(\"몇번째 동영상 크롤링?: \"))\n",
    "driver.find_element_by_css_selector(f'#items > ytd-grid-video-renderer:nth-child({video_num})').click()\n",
    "time.sleep(2)\n",
    "\n",
    "# 해당페이지 스크롤\n",
    "body = driver.find_element_by_css_selector('body')\n",
    "scroll = int(input('스크롤할 횟수'))\n",
    "for i in range(scroll):\n",
    "    body.send_keys(Keys.PAGE_DOWN)\n",
    "    time.sleep(1)\n",
    "\n",
    "\n",
    "soup = bs(driver.page_source, 'html.parser')\n",
    "# 아이디 크롤링\n",
    "total_ID = soup.select('#author-text > span')\n",
    "ID_list =[]\n",
    "for ID in total_ID:\n",
    "    ID_text = ID.text\n",
    "    ID_text = ID_text.replace(\" \",\"\")\n",
    "    ID_text = ID_text.replace(\"\\n\",\"\")\n",
    "    ID_list.append(ID_text)\n",
    "    \n",
    "# 댓글 크롤링\n",
    "total_comment = soup.select(\"#content-text\")\n",
    "comment_list = []\n",
    "for comment in total_comment:\n",
    "    comment_text = comment.text\n",
    "    comment_text = comment_text.replace(\"\\n\",\"\")\n",
    "    comment_list.append(comment_text)\n",
    "    \n",
    "# 데이터 프레임화 시키기\n",
    "info = {'Id':ID_list, \"comment\":comment_list}\n",
    "df = pd.DataFrame(info)\n",
    "df\n",
    "\n",
    "# 데이터 저장\n",
    "df.to_csv(f'data/{search}_{video_num}번_비디오_댓글.csv',index=False)"
   ]
  }
 ],
 "metadata": {
  "kernelspec": {
   "display_name": "Python 3",
   "language": "python",
   "name": "python3"
  },
  "language_info": {
   "codemirror_mode": {
    "name": "ipython",
    "version": 3
   },
   "file_extension": ".py",
   "mimetype": "text/x-python",
   "name": "python",
   "nbconvert_exporter": "python",
   "pygments_lexer": "ipython3",
   "version": "3.8.8"
  }
 },
 "nbformat": 4,
 "nbformat_minor": 5
}
