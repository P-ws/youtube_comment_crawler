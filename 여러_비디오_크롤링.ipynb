{
 "cells": [
  {
   "cell_type": "code",
   "execution_count": 2,
   "id": "741b15ef-0717-47f8-a722-85e247ed4969",
   "metadata": {},
   "outputs": [],
   "source": [
    "from selenium import webdriver as wb\n",
    "from selenium.webdriver.common.keys import Keys \n",
    "from bs4 import BeautifulSoup as bs\n",
    "import pandas as pd\n",
    "import time\n",
    "from selenium.webdriver.common.keys import Keys"
   ]
  },
  {
   "cell_type": "code",
   "execution_count": 6,
   "id": "39261812-5617-448b-9b1b-58aba01fb145",
   "metadata": {},
   "outputs": [
    {
     "name": "stdin",
     "output_type": "stream",
     "text": [
      " 홍구\n",
      "크롤링할 비디오 갯수(순서대로): 2\n",
      "스크롤 할 횟수: 3\n"
     ]
    }
   ],
   "source": [
    "# 크롬드라이버로 실행\n",
    "driver = wb.Chrome('chromedriver.exe')\n",
    "time.sleep(1)\n",
    "\n",
    "\n",
    "# 찾고싶은 해당 페이지 입력\n",
    "search = str(input())\n",
    "youtube = 'https://www.youtube.com/results?search_query='\n",
    "url = youtube+search\n",
    "driver.get(url)\n",
    "time.sleep(1)\n",
    "\n",
    "\n",
    "# 해당 유튜버로 홈으로 접근\n",
    "driver.find_element_by_css_selector('#avatar').click()\n",
    "time.sleep(2)\n",
    "\n",
    "\n",
    "# 동영상 페이지로 접근\n",
    "driver.find_element_by_css_selector('#tabsContent > tp-yt-paper-tab:nth-child(4)').click()\n",
    "time.sleep(2)\n",
    "\n",
    "# 인풋값 설정\n",
    "video_n = int(input('크롤링할 비디오 갯수(순서대로):'))\n",
    "scroll_n = int(input('스크롤 할 횟수:'))\n",
    "\n",
    "# 비디오 갯수만큼 클로링, 데이터 프레임화\n",
    "for video in range(1, video_n+1):\n",
    "    driver.find_element_by_css_selector(f'#items > ytd-grid-video-renderer:nth-child({video})').click()\n",
    "    time.sleep(5)\n",
    "    # 해당페이지 스크롤\n",
    "    body = driver.find_element_by_css_selector('body')\n",
    "    for i in range(scroll_n):\n",
    "        body.send_keys(Keys.PAGE_DOWN)\n",
    "        time.sleep(1)\n",
    "        \n",
    "    # driver 뷰티풀 숲 설정\n",
    "    soup = bs(driver.page_source, 'html.parser')\n",
    "    \n",
    "    # 아이디 크롤링\n",
    "    total_ID = soup.select('#author-text > span')\n",
    "    ID_list =[]\n",
    "    for ID in total_ID:\n",
    "        ID_text = ID.text\n",
    "        ID_text = ID_text.replace(\" \",\"\")\n",
    "        ID_text = ID_text.replace(\"\\n\",\"\")\n",
    "        ID_list.append(ID_text)\n",
    "\n",
    "    # 댓글 크롤링\n",
    "    total_comment = soup.select(\"#content-text\")\n",
    "    comment_list = []\n",
    "    for comment in total_comment:\n",
    "        comment_text = comment.text\n",
    "        comment_text = comment_text.replace(\"\\n\",\"\")\n",
    "        comment_list.append(comment_text)\n",
    "    \n",
    "    # 데이터 프레임화 시키기\n",
    "    info = {'Id':ID_list, \"comment\":comment_list}\n",
    "    df = pd.DataFrame(info)\n",
    "    df.to_csv(f'data/{search}_{video}번_비디오_댓글.csv',index=False)\n",
    "    time.sleep(2)\n",
    "    driver.back()\n"
   ]
  }
 ],
 "metadata": {
  "kernelspec": {
   "display_name": "Python 3",
   "language": "python",
   "name": "python3"
  },
  "language_info": {
   "codemirror_mode": {
    "name": "ipython",
    "version": 3
   },
   "file_extension": ".py",
   "mimetype": "text/x-python",
   "name": "python",
   "nbconvert_exporter": "python",
   "pygments_lexer": "ipython3",
   "version": "3.8.8"
  }
 },
 "nbformat": 4,
 "nbformat_minor": 5
}
