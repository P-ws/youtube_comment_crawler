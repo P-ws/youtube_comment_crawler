{
 "cells": [
  {
   "cell_type": "code",
   "execution_count": 127,
   "id": "fa44e2c4-fb2c-41a9-8841-91f4e1079cac",
   "metadata": {},
   "outputs": [],
   "source": [
    "from selenium import webdriver as wb\n",
    "from selenium.webdriver.common.keys import Keys \n",
    "from bs4 import BeautifulSoup as bs\n",
    "import pandas as pd\n",
    "import time\n",
    "from selenium.webdriver.common.keys import Keys"
   ]
  },
  {
   "cell_type": "code",
   "execution_count": 128,
   "id": "70c36281-dfad-40ef-9cdf-03a5a0ad1347",
   "metadata": {},
   "outputs": [],
   "source": [
    "# 크롬드라이버로 실행\n",
    "driver = wb.Chrome('chromedriver.exe')"
   ]
  },
  {
   "cell_type": "code",
   "execution_count": 129,
   "id": "8dfde90e-9597-437a-af86-33648fd03602",
   "metadata": {},
   "outputs": [
    {
     "name": "stdin",
     "output_type": "stream",
     "text": [
      " 파이\n"
     ]
    }
   ],
   "source": [
    "# 찾고싶은 해당 페이지 입력\n",
    "search = str(input())\n",
    "youtube = 'https://www.youtube.com/results?search_query='\n",
    "url = youtube+search\n",
    "driver.get(url)"
   ]
  },
  {
   "cell_type": "code",
   "execution_count": 130,
   "id": "ef4baa78-9577-4a41-935b-470dfd2fbd95",
   "metadata": {},
   "outputs": [],
   "source": [
    "# 해당 유튜버로 홈으로 접근\n",
    "time.sleep(3)\n",
    "driver.find_element_by_css_selector('#avatar').click()"
   ]
  },
  {
   "cell_type": "code",
   "execution_count": 131,
   "id": "557219e3-e3a1-4710-b9e2-fbbd9bc7fdd0",
   "metadata": {},
   "outputs": [],
   "source": [
    "# 동영상 페이지로 접근\n",
    "time.sleep(3)\n",
    "driver.find_element_by_css_selector('#tabsContent > tp-yt-paper-tab:nth-child(4)').click()"
   ]
  },
  {
   "cell_type": "code",
   "execution_count": 132,
   "id": "d88b586a-0ca4-4bab-8d7a-872f29f4d497",
   "metadata": {},
   "outputs": [
    {
     "name": "stdin",
     "output_type": "stream",
     "text": [
      " 1\n"
     ]
    }
   ],
   "source": [
    "# 특정 비디오만 크롤링 하기\n",
    "video_num = int(input())\n",
    "driver.find_element_by_css_selector(f'#items > ytd-grid-video-renderer:nth-child({video_num})').click()"
   ]
  },
  {
   "cell_type": "code",
   "execution_count": 9,
   "id": "efc5602a-fa86-4c6c-877c-cdd3ec756ec3",
   "metadata": {},
   "outputs": [],
   "source": [
    "# 해당페이지 스크롤\n",
    "time.sleep(5)\n",
    "body = driver.find_element_by_css_selector('body')\n",
    "\n",
    "for i in range(5):\n",
    "    body.send_keys(Keys.PAGE_DOWN)\n",
    "    time.sleep(1)"
   ]
  },
  {
   "cell_type": "code",
   "execution_count": 143,
   "id": "f58d7798-2a6e-498c-90de-752a2e339910",
   "metadata": {},
   "outputs": [],
   "source": [
    "# 제목, 조회수, 시간 으로 데이터 프레임 형성\n",
    "soup = bs(driver.page_source, 'html.parser')\n",
    "\n",
    "# 아이디 크롤링\n",
    "total_ID = soup.select('#author-text > span')\n",
    "ID_list =[]\n",
    "for ID in total_ID:\n",
    "    ID_text = ID.text\n",
    "    ID_text = ID_text.replace(\" \",\"\")\n",
    "    ID_text = ID_text.replace(\"\\n\",\"\")\n",
    "    ID_list.append(ID_text)\n",
    "    \n",
    "# 댓글 크롤링\n",
    "total_comment = soup.select(\"#content-text\")\n",
    "comment_list = []\n",
    "for comment in total_comment:\n",
    "    comment_text = comment.text\n",
    "    comment_text = comment_text.replace(\"\\n\",\"\")\n",
    "    comment_list.append(comment_text)"
   ]
  },
  {
   "cell_type": "code",
   "execution_count": 144,
   "id": "ce678e1a-b56c-4069-9683-7251f12bf307",
   "metadata": {},
   "outputs": [],
   "source": [
    "# 판다스 옵션 설정\n",
    "pd.set_option('display.max_row', 500)\n",
    "pd.set_option('display.max_columns', 100)\n",
    "pd.set_option('display.max_colwidth', 100)\n",
    "\n",
    "# 데이터 프레임화 시키기\n",
    "info = {'Id':ID_list, \"comment\":comment_list}\n",
    "df = pd.DataFrame(info)\n",
    "df"
   ]
  },
  {
   "cell_type": "code",
   "execution_count": 126,
   "id": "4c93c261-99ca-4def-8890-c99d6f0a2e70",
   "metadata": {},
   "outputs": [],
   "source": [
    "# 데이터 저장\n",
    "df.to_csv(f'{search}_{video_num}번_비디오_댓글.csv',index=False)"
   ]
  }
 ],
 "metadata": {
  "kernelspec": {
   "display_name": "Python 3",
   "language": "python",
   "name": "python3"
  },
  "language_info": {
   "codemirror_mode": {
    "name": "ipython",
    "version": 3
   },
   "file_extension": ".py",
   "mimetype": "text/x-python",
   "name": "python",
   "nbconvert_exporter": "python",
   "pygments_lexer": "ipython3",
   "version": "3.8.8"
  }
 },
 "nbformat": 4,
 "nbformat_minor": 5
}
